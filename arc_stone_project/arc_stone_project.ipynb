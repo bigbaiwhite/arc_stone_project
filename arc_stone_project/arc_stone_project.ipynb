{
 "cells": [
  {
   "cell_type": "code",
   "execution_count": 227,
   "metadata": {
    "collapsed": true
   },
   "outputs": [],
   "source": [
    "import pandas as pd \n",
    "import numpy as np\n",
    "from datetime import datetime\n",
    "from datetime import timedelta\n",
    "import warnings\n",
    "warnings.filterwarnings('ignore')\n",
    "import matplotlib.pyplot as plt\n",
    "%matplotlib inline"
   ]
  },
  {
   "cell_type": "code",
   "execution_count": 2,
   "metadata": {
    "collapsed": true
   },
   "outputs": [],
   "source": [
    "# Data Extraction\n",
    "orig_data=pd.read_csv(\"data.csv\",index_col=2)"
   ]
  },
  {
   "cell_type": "markdown",
   "metadata": {},
   "source": [
    "## Data Summary\n",
    "This session is about ..."
   ]
  },
  {
   "cell_type": "code",
   "execution_count": 3,
   "metadata": {},
   "outputs": [
    {
     "data": {
      "text/plain": [
       "Index(['SPX', 'VIX', 'SPX', 'VIX', 'SPX', 'VIX', 'SPX', 'VIX', 'SPX', 'VIX',\n",
       "       ...\n",
       "       'VXM8', 'VXK8', 'VIX', 'VXH8', 'VXG8', 'VXJ8', 'VXX7', 'VXZ7', 'VXN8',\n",
       "       'SPX'],\n",
       "      dtype='object', name='m_localSymbol', length=70357)"
      ]
     },
     "execution_count": 3,
     "metadata": {},
     "output_type": "execute_result"
    }
   ],
   "source": [
    "orig_data.describe()\n",
    "orig_data.index"
   ]
  },
  {
   "cell_type": "markdown",
   "metadata": {},
   "source": [
    "## Relation between SPX and VIX"
   ]
  },
  {
   "cell_type": "code",
   "execution_count": 211,
   "metadata": {},
   "outputs": [],
   "source": [
    "def convert_daily(col_nm = \"SPX\"):\n",
    "    fil_data =orig_data.loc[col_nm]\n",
    "    # Convert datetime to date\n",
    "    fil_data.date = fil_data.date.apply(lambda x:datetime.strptime(x, \"%Y-%m-%d %H:%M:%S\").date())\n",
    "    daily_data_open = fil_data.groupby([\"date\"]).first()\n",
    "    daily_data_close = fil_data.groupby([\"date\"]).last()\n",
    "    daily_data = daily_data_open[[\"open\",\"close\"]]\n",
    "    daily_data.close = daily_data_close.close #daily_date.close = daily_data_close.close\n",
    "    daily_data.reset_index(inplace=True)\n",
    "    daily_data = daily_data.set_index(pd.DatetimeIndex(daily_data[\"date\"]))[[\"open\",\"close\"]]\n",
    "    return daily_data"
   ]
  },
  {
   "cell_type": "code",
   "execution_count": 212,
   "metadata": {},
   "outputs": [],
   "source": [
    "VIX_daily = convert_daily(\"VIX\")\n",
    "SPX_daily = convert_daily(\"SPX\")\n",
    "# TODO Paralla graphing VIX vs SPX"
   ]
  },
  {
   "cell_type": "code",
   "execution_count": 250,
   "metadata": {},
   "outputs": [],
   "source": [
    "# Weekly sell off larger than 0.02\n",
    "def convert_weekly(daily_data = convert_daily(\"SPX\"),sell_off_pct = -0.02):\n",
    "    weekly_data = daily_data.groupby(pd.TimeGrouper('W')).first()\n",
    "    weekly_data['wk_close'] = daily_data.groupby(pd.TimeGrouper('W')).last()[['close']]\n",
    "    weekly_data = weekly_data[['open','wk_close']]\n",
    "    weekly_data.columns = ['open','close']\n",
    "    weekly_data['wkly_pct_chg'] = (weekly_data.close - weekly_data.open)/weekly_data.open\n",
    "    weekly_data [weekly_data.wkly_pct_chg < sell_off_pct]\n",
    "    return weekly_data"
   ]
  },
  {
   "cell_type": "code",
   "execution_count": 262,
   "metadata": {},
   "outputs": [
    {
     "name": "stdout",
     "output_type": "stream",
     "text": [
      "**Week 1**\n",
      "              close  SPX_close\n",
      "close      1.000000  -0.979634\n",
      "SPX_close -0.979634   1.000000\n",
      "**Week 2**\n",
      "              close  SPX_close\n",
      "close      1.000000  -0.951109\n",
      "SPX_close -0.951109   1.000000\n",
      "**Week 3**\n",
      "              close  SPX_close\n",
      "close      1.000000  -0.982671\n",
      "SPX_close -0.982671   1.000000\n",
      "**Week 4**\n",
      "              close  SPX_close\n",
      "close      1.000000  -0.933501\n",
      "SPX_close -0.933501   1.000000\n",
      "**Week 5**\n",
      "              close  SPX_close\n",
      "close      1.000000  -0.999822\n",
      "SPX_close -0.999822   1.000000\n"
     ]
    }
   ],
   "source": [
    "# SPX & VIX Weekly price correlation\n",
    "wk_num = 1 \n",
    "for end_date in weekly_data[weekly_data.wkly_pct_chg < -0.02].index:\n",
    "    start_date = end_date - timedelta(days = 6)\n",
    "    SPX_daily_slof_prd = SPX_daily[(SPX_daily.index < end_date) & (SPX_daily.index >= start_date)]\n",
    "    VIX_daily_slof_prd = VIX_daily[(SPX_daily.index < end_date) & (SPX_daily.index >= start_date)]\n",
    "#     print(SPX_daily[(SPX_daily.index < end_date) & (SPX_daily.index >= start_date)])\n",
    "#     print(\"**VIX_daily**\")\n",
    "#     print(VIX_daily[(SPX_daily.index < end_date) & (SPX_daily.index >= start_date)])\n",
    "    VIX_daily_slof_prd[\"SPX_close\"] = SPX_daily_slof_prd.close\n",
    "\n",
    "    print(\"**Week \" + str(wk_num) + \"**\")\n",
    "    print(VIX_daily_slof_prd[[\"close\",\"SPX_close\"]].corr())\n",
    "    wk_num += 1"
   ]
  },
  {
   "cell_type": "code",
   "execution_count": 164,
   "metadata": {},
   "outputs": [
    {
     "data": {
      "text/html": [
       "<div>\n",
       "<style>\n",
       "    .dataframe thead tr:only-child th {\n",
       "        text-align: right;\n",
       "    }\n",
       "\n",
       "    .dataframe thead th {\n",
       "        text-align: left;\n",
       "    }\n",
       "\n",
       "    .dataframe tbody tr th {\n",
       "        vertical-align: top;\n",
       "    }\n",
       "</style>\n",
       "<table border=\"1\" class=\"dataframe\">\n",
       "  <thead>\n",
       "    <tr style=\"text-align: right;\">\n",
       "      <th></th>\n",
       "      <th>open</th>\n",
       "      <th>close</th>\n",
       "      <th>daily_pct_chge</th>\n",
       "    </tr>\n",
       "    <tr>\n",
       "      <th>date</th>\n",
       "      <th></th>\n",
       "      <th></th>\n",
       "      <th></th>\n",
       "    </tr>\n",
       "  </thead>\n",
       "  <tbody>\n",
       "    <tr>\n",
       "      <th>2016-01-13</th>\n",
       "      <td>1945.29</td>\n",
       "      <td>1890.19</td>\n",
       "      <td>-0.028325</td>\n",
       "    </tr>\n",
       "    <tr>\n",
       "      <th>2016-09-09</th>\n",
       "      <td>2173.63</td>\n",
       "      <td>2128.29</td>\n",
       "      <td>-0.020859</td>\n",
       "    </tr>\n",
       "  </tbody>\n",
       "</table>\n",
       "</div>"
      ],
      "text/plain": [
       "               open    close  daily_pct_chge\n",
       "date                                        \n",
       "2016-01-13  1945.29  1890.19       -0.028325\n",
       "2016-09-09  2173.63  2128.29       -0.020859"
      ]
     },
     "execution_count": 164,
     "metadata": {},
     "output_type": "execute_result"
    }
   ],
   "source": [
    "# Daily percentage falls larger than 0.02\n",
    "SPX_daily['daily_pct_chge'] = (SPX_daily.close - SPX_daily.open)/SPX_daily.open\n",
    "SPX_daily[SPX_daily.daily_pct_chge < -0.02]"
   ]
  },
  {
   "cell_type": "code",
   "execution_count": 17,
   "metadata": {},
   "outputs": [
    {
     "data": {
      "image/png": "[encoded data removed]",
      "text/plain": [
       "<matplotlib.figure.Figure at 0x11762cb00>"
      ]
     },
     "metadata": {},
     "output_type": "display_data"
    }
   ],
   "source": [
    "# VIX_daily[(SPX_daily.close.pct_change()) < -0.02].close.plot()\n",
    "# plt.show()"
   ]
  },
  {
   "cell_type": "code",
   "execution_count": 103,
   "metadata": {},
   "outputs": [
    {
     "data": {
      "text/html": [
       "<div>\n",
       "<style scoped>\n",
       "    .dataframe tbody tr th:only-of-type {\n",
       "        vertical-align: middle;\n",
       "    }\n",
       "\n",
       "    .dataframe tbody tr th {\n",
       "        vertical-align: top;\n",
       "    }\n",
       "\n",
       "    .dataframe thead th {\n",
       "        text-align: right;\n",
       "    }\n",
       "</style>\n",
       "<table border=\"1\" class=\"dataframe\">\n",
       "  <thead>\n",
       "    <tr style=\"text-align: right;\">\n",
       "      <th></th>\n",
       "      <th>Unnamed: 0</th>\n",
       "      <th>open</th>\n",
       "      <th>high</th>\n",
       "      <th>low</th>\n",
       "      <th>close</th>\n",
       "    </tr>\n",
       "    <tr>\n",
       "      <th>date</th>\n",
       "      <th></th>\n",
       "      <th></th>\n",
       "      <th></th>\n",
       "      <th></th>\n",
       "      <th></th>\n",
       "    </tr>\n",
       "  </thead>\n",
       "  <tbody>\n",
       "    <tr>\n",
       "      <th>2016/01/04</th>\n",
       "      <td>101.785714</td>\n",
       "      <td>22.200000</td>\n",
       "      <td>22.518571</td>\n",
       "      <td>21.795000</td>\n",
       "      <td>22.072857</td>\n",
       "    </tr>\n",
       "    <tr>\n",
       "      <th>2016/01/15</th>\n",
       "      <td>1480.928571</td>\n",
       "      <td>28.402857</td>\n",
       "      <td>29.058571</td>\n",
       "      <td>27.840714</td>\n",
       "      <td>28.264286</td>\n",
       "    </tr>\n",
       "    <tr>\n",
       "      <th>2016/01/20</th>\n",
       "      <td>1787.071429</td>\n",
       "      <td>29.075714</td>\n",
       "      <td>29.670000</td>\n",
       "      <td>28.499286</td>\n",
       "      <td>29.062143</td>\n",
       "    </tr>\n",
       "    <tr>\n",
       "      <th>2016/02/08</th>\n",
       "      <td>3674.142857</td>\n",
       "      <td>26.619286</td>\n",
       "      <td>26.862857</td>\n",
       "      <td>26.305000</td>\n",
       "      <td>26.627143</td>\n",
       "    </tr>\n",
       "    <tr>\n",
       "      <th>2016/02/11</th>\n",
       "      <td>4133.857143</td>\n",
       "      <td>28.625714</td>\n",
       "      <td>29.117143</td>\n",
       "      <td>27.779286</td>\n",
       "      <td>28.563571</td>\n",
       "    </tr>\n",
       "    <tr>\n",
       "      <th>2016/06/24</th>\n",
       "      <td>18144.666667</td>\n",
       "      <td>23.692593</td>\n",
       "      <td>24.246296</td>\n",
       "      <td>22.991111</td>\n",
       "      <td>23.681481</td>\n",
       "    </tr>\n",
       "    <tr>\n",
       "      <th>2016/06/27</th>\n",
       "      <td>18297.481481</td>\n",
       "      <td>24.773333</td>\n",
       "      <td>25.087037</td>\n",
       "      <td>24.425556</td>\n",
       "      <td>24.753704</td>\n",
       "    </tr>\n",
       "    <tr>\n",
       "      <th>2016/06/29</th>\n",
       "      <td>18600.370370</td>\n",
       "      <td>17.363704</td>\n",
       "      <td>17.462222</td>\n",
       "      <td>17.203333</td>\n",
       "      <td>17.308889</td>\n",
       "    </tr>\n",
       "  </tbody>\n",
       "</table>\n",
       "</div>"
      ],
      "text/plain": [
       "              Unnamed: 0       open       high        low      close\n",
       "date                                                                \n",
       "2016/01/04    101.785714  22.200000  22.518571  21.795000  22.072857\n",
       "2016/01/15   1480.928571  28.402857  29.058571  27.840714  28.264286\n",
       "2016/01/20   1787.071429  29.075714  29.670000  28.499286  29.062143\n",
       "2016/02/08   3674.142857  26.619286  26.862857  26.305000  26.627143\n",
       "2016/02/11   4133.857143  28.625714  29.117143  27.779286  28.563571\n",
       "2016/06/24  18144.666667  23.692593  24.246296  22.991111  23.681481\n",
       "2016/06/27  18297.481481  24.773333  25.087037  24.425556  24.753704\n",
       "2016/06/29  18600.370370  17.363704  17.462222  17.203333  17.308889"
      ]
     },
     "execution_count": 103,
     "metadata": {},
     "output_type": "execute_result"
    }
   ],
   "source": [
    "VIX_daily[abs(SPX_daily.close.pct_change()) > 0.02]"
   ]
  },
  {
   "cell_type": "code",
   "execution_count": 104,
   "metadata": {
    "collapsed": true
   },
   "outputs": [],
   "source": [
    "VIX_daily['SPX_close'] = SPX_daily.close"
   ]
  },
  {
   "cell_type": "code",
   "execution_count": 113,
   "metadata": {},
   "outputs": [
    {
     "data": {
      "text/html": [
       "<div>\n",
       "<style scoped>\n",
       "    .dataframe tbody tr th:only-of-type {\n",
       "        vertical-align: middle;\n",
       "    }\n",
       "\n",
       "    .dataframe tbody tr th {\n",
       "        vertical-align: top;\n",
       "    }\n",
       "\n",
       "    .dataframe thead th {\n",
       "        text-align: right;\n",
       "    }\n",
       "</style>\n",
       "<table border=\"1\" class=\"dataframe\">\n",
       "  <thead>\n",
       "    <tr style=\"text-align: right;\">\n",
       "      <th></th>\n",
       "      <th>close</th>\n",
       "      <th>SPX_close</th>\n",
       "    </tr>\n",
       "  </thead>\n",
       "  <tbody>\n",
       "    <tr>\n",
       "      <th>close</th>\n",
       "      <td>1.000000</td>\n",
       "      <td>-0.873239</td>\n",
       "    </tr>\n",
       "    <tr>\n",
       "      <th>SPX_close</th>\n",
       "      <td>-0.873239</td>\n",
       "      <td>1.000000</td>\n",
       "    </tr>\n",
       "  </tbody>\n",
       "</table>\n",
       "</div>"
      ],
      "text/plain": [
       "              close  SPX_close\n",
       "close      1.000000  -0.873239\n",
       "SPX_close -0.873239   1.000000"
      ]
     },
     "execution_count": 113,
     "metadata": {},
     "output_type": "execute_result"
    }
   ],
   "source": [
    "VIX_daily[abs(SPX_daily.close.pct_change()) > 0.02][[\"close\",\"SPX_close\"]].corr()"
   ]
  },
  {
   "cell_type": "code",
   "execution_count": 25,
   "metadata": {},
   "outputs": [
    {
     "data": {
      "text/plain": [
       "<matplotlib.axes._subplots.AxesSubplot at 0x117fef668>"
      ]
     },
     "execution_count": 25,
     "metadata": {},
     "output_type": "execute_result"
    },
    {
     "data": {
      "image/png": "[encoded data removed]",
      "text/plain": [
       "<matplotlib.figure.Figure at 0x11109a208>"
      ]
     },
     "metadata": {},
     "output_type": "display_data"
    }
   ],
   "source": [
    "orig_data.loc['VIX'].open.plot()"
   ]
  },
  {
   "cell_type": "code",
   "execution_count": 26,
   "metadata": {},
   "outputs": [
    {
     "data": {
      "text/plain": [
       "<matplotlib.axes._subplots.AxesSubplot at 0x117f89c18>"
      ]
     },
     "execution_count": 26,
     "metadata": {},
     "output_type": "execute_result"
    },
    {
     "data": {
      "image/png": "[encoded data removed]",
      "text/plain": [
       "<matplotlib.figure.Figure at 0x117b8a908>"
      ]
     },
     "metadata": {},
     "output_type": "display_data"
    }
   ],
   "source": [
    "orig_data.loc['SPX'].open.plot()"
   ]
  },
  {
   "cell_type": "code",
   "execution_count": null,
   "metadata": {
    "collapsed": true
   },
   "outputs": [],
   "source": []
  }
 ],
 "metadata": {
  "kernelspec": {
   "display_name": "Python 3",
   "language": "python",
   "name": "python3"
  },
  "language_info": {
   "codemirror_mode": {
    "name": "ipython",
    "version": 3
   },
   "file_extension": ".py",
   "mimetype": "text/x-python",
   "name": "python",
   "nbconvert_exporter": "python",
   "pygments_lexer": "ipython3",
   "version": "3.6.3"
  }
 },
 "nbformat": 4,
 "nbformat_minor": 2
}
